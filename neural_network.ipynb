{
 "cells": [
  {
   "metadata": {
    "ExecuteTime": {
     "end_time": "2024-08-10T22:41:50.301774Z",
     "start_time": "2024-08-10T22:41:50.156700Z"
    }
   },
   "cell_type": "code",
   "source": [
    "import numpy as np\n",
    "import matplotlib.pyplot as plt\n",
    "from enum import Enum\n",
    "from nnfs.datasets import spiral_data\n",
    "import nnfs\n",
    "\n",
    "nnfs.init()"
   ],
   "id": "68f9ae6a982ef0ee",
   "outputs": [],
   "execution_count": 50
  },
  {
   "metadata": {},
   "cell_type": "markdown",
   "source": "# Neural Network",
   "id": "7f6aecfa1d3a045e"
  },
  {
   "metadata": {},
   "cell_type": "markdown",
   "source": "## Layers",
   "id": "da3f2530860e9b83"
  },
  {
   "metadata": {
    "ExecuteTime": {
     "end_time": "2024-08-10T22:41:50.781458Z",
     "start_time": "2024-08-10T22:41:50.758162Z"
    }
   },
   "cell_type": "code",
   "source": [
    "Activation = Enum('Activation Function', ['linear', 'relu', 'softmax', 'sigmoid'])\n",
    "Optimizer = Enum('Optimizer', ['sgd', 'adagrad', 'rmsprop', 'adam'])\n",
    "Loss = Enum('Loss', ['categorical_crossentropy', 'binary_crossentropy', 'mean_squared_error', 'mean_absolute_error'])"
   ],
   "id": "e345b9ccb2cf1683",
   "outputs": [],
   "execution_count": 51
  },
  {
   "metadata": {
    "ExecuteTime": {
     "end_time": "2024-08-10T22:41:50.828085Z",
     "start_time": "2024-08-10T22:41:50.814373Z"
    }
   },
   "cell_type": "code",
   "source": [
    "class Layer:\n",
    "    def __init__(self):\n",
    "        self.inputs = np.array([])\n",
    "        self.weights = np.array([])\n",
    "        self.biases = np.array([])\n",
    "        self.outputs = np.array([])\n",
    "        \n",
    "        self.inputs_prime = np.array([])\n",
    "        self.weights_prime = np.array([])\n",
    "        self.biases_prime = np.array([])\n",
    "        self.outputs_prime = np.array([])\n",
    "\n",
    "    def forward(self, inputs: np.ndarray) -> np.ndarray:\n",
    "        pass\n",
    "\n",
    "    def backward(self, outputs_prime: np.ndarray) -> np.ndarray:\n",
    "        pass"
   ],
   "id": "6474afafac8928a5",
   "outputs": [],
   "execution_count": 52
  },
  {
   "metadata": {},
   "cell_type": "markdown",
   "source": "### Input Layer",
   "id": "24dafbe4cc7a0b82"
  },
  {
   "metadata": {
    "ExecuteTime": {
     "end_time": "2024-08-10T22:41:51.044264Z",
     "start_time": "2024-08-10T22:41:51.026767Z"
    }
   },
   "cell_type": "code",
   "source": [
    "class InputLayer(Layer):\n",
    "    def forward(self, inputs: np.ndarray) -> np.ndarray:\n",
    "        self.outputs = inputs\n",
    "        return self.outputs"
   ],
   "id": "a84ad3a8dc1a0584",
   "outputs": [],
   "execution_count": 53
  },
  {
   "metadata": {},
   "cell_type": "markdown",
   "source": "### Dense Layer",
   "id": "fce48a2b2a4ea20b"
  },
  {
   "metadata": {
    "ExecuteTime": {
     "end_time": "2024-08-10T22:41:51.090461Z",
     "start_time": "2024-08-10T22:41:51.054243Z"
    }
   },
   "cell_type": "code",
   "source": [
    "class DenseLayer(Layer):\n",
    "    def __init__(self, input_shape: int, n_neurons: int, activation: str = 'linear', weight_regularizer_l1=0., weight_regularizer_l2=0., bias_regularizer_l1=0., bias_regularizer_l2=0.):\n",
    "        super().__init__()\n",
    "\n",
    "        self.weights = 0.01 * np.random.randn(input_shape, n_neurons)\n",
    "        self.biases = np.zeros((1, n_neurons))\n",
    "        \n",
    "        self.weight_regularizer_l1 = weight_regularizer_l1\n",
    "        self.weight_regularizer_l2 = weight_regularizer_l2\n",
    "        self.bias_regularizer_l1 = bias_regularizer_l1\n",
    "        self.bias_regularizer_l2 = bias_regularizer_l2\n",
    "\n",
    "    def forward(self, inputs: np.ndarray) -> np.ndarray:\n",
    "        self.inputs = inputs\n",
    "        self.outputs = np.dot(inputs, self.weights) + self.biases\n",
    "\n",
    "        return self.outputs\n",
    "\n",
    "    def backward(self, outputs_prime: np.ndarray) -> np.ndarray:\n",
    "        self.outputs_prime = outputs_prime.copy()\n",
    "        self.weights_prime = np.dot(self.inputs.T, outputs_prime)\n",
    "        self.biases_prime = np.sum(outputs_prime, axis=0, keepdims=True)\n",
    "        \n",
    "        if self.weight_regularizer_l1 > 0:\n",
    "            dl1 = np.ones_like(self.weights)\n",
    "            dl1[self.weights < 0] = -1\n",
    "            self.weights_prime += self.weight_regularizer_l1 * dl1\n",
    "        if self.weight_regularizer_l2 > 0:\n",
    "            self.weights_prime += 2 * self.weight_regularizer_l2 * self.weights\n",
    "\n",
    "        if self.bias_regularizer_l1 > 0:\n",
    "            dl1 = np.ones_like(self.biases)\n",
    "            dl1[self.biases < 0] = -1\n",
    "            self.biases_prime += self.bias_regularizer_l1 * dl1\n",
    "        if self.bias_regularizer_l2 > 0:\n",
    "            self.biases_prime += 2 * self.bias_regularizer_l2 * self.biases\n",
    "\n",
    "        self.inputs_prime = np.dot(outputs_prime, self.weights.T)\n",
    "        return self.inputs_prime"
   ],
   "id": "1c46ecb70ce9cd99",
   "outputs": [],
   "execution_count": 54
  },
  {
   "metadata": {},
   "cell_type": "markdown",
   "source": "### Dropout Layer",
   "id": "578af93a73a06f0"
  },
  {
   "metadata": {
    "ExecuteTime": {
     "end_time": "2024-08-10T22:41:51.120996Z",
     "start_time": "2024-08-10T22:41:51.098445Z"
    }
   },
   "cell_type": "code",
   "source": [
    "class DropoutLayer(Layer):\n",
    "    def __init__(self, rate: float):\n",
    "        super().__init__()\n",
    "        self.binary_mask = np.array([])\n",
    "        self.rate = 1 - rate\n",
    "        \n",
    "    def forward(self, inputs: np.ndarray) -> np.ndarray:\n",
    "        self.inputs = inputs\n",
    "        self.binary_mask = np.random.binomial(1, self.rate, size=inputs.shape) / self.rate\n",
    "        self.outputs = inputs * self.binary_mask\n",
    "        \n",
    "        return self.outputs\n",
    "    \n",
    "    def backward(self, outputs_prime: np.ndarray) -> np.ndarray:\n",
    "        self.outputs_prime = outputs_prime.copy()\n",
    "        self.inputs_prime = outputs_prime * self.binary_mask\n",
    "        \n",
    "        return self.inputs_prime"
   ],
   "id": "385a43773a57ff98",
   "outputs": [],
   "execution_count": 55
  },
  {
   "metadata": {},
   "cell_type": "markdown",
   "source": "## Activation Function",
   "id": "31f9fbe3f61f613e"
  },
  {
   "metadata": {
    "ExecuteTime": {
     "end_time": "2024-08-10T22:41:51.151749Z",
     "start_time": "2024-08-10T22:41:51.129986Z"
    }
   },
   "cell_type": "code",
   "source": [
    "class ActivationFunction:\n",
    "    def __init__(self, activation_function, activation_function_prime, predictions):\n",
    "        self.inputs = np.array([])\n",
    "        self.outputs = np.array([])\n",
    "        self.inputs_prime = np.array([])\n",
    "        self.outputs_prime = np.array([])\n",
    "        \n",
    "        self.activation_function = activation_function\n",
    "        self.activation_function_prime = activation_function_prime\n",
    "        self.predictions = predictions\n",
    "        \n",
    "    def forward(self, inputs: np.ndarray) -> np.ndarray:\n",
    "        self.inputs = inputs\n",
    "        return self.activation_function(inputs)\n",
    "    \n",
    "    def backward(self, outputs_prime: np.ndarray) -> np.ndarray:\n",
    "        self.outputs_prime = outputs_prime.copy()\n",
    "        return self.activation_function_prime(self.outputs_prime)\n",
    "    \n",
    "    def predictions(self):\n",
    "        return self.predictions(self.outputs)"
   ],
   "id": "7db45f45996608ae",
   "outputs": [],
   "execution_count": 56
  },
  {
   "metadata": {},
   "cell_type": "markdown",
   "source": "### Linear Function",
   "id": "806399188cc45d4e"
  },
  {
   "metadata": {
    "ExecuteTime": {
     "end_time": "2024-08-10T22:41:51.201235Z",
     "start_time": "2024-08-10T22:41:51.189656Z"
    }
   },
   "cell_type": "code",
   "source": [
    "class ActivationLinear(ActivationFunction):\n",
    "    def __init__(self):\n",
    "        def activation_function(inputs: np.ndarray) -> np.ndarray:\n",
    "            self.outputs = inputs\n",
    "            return self.outputs\n",
    "\n",
    "        def activation_function_prime(outputs_prime: np.ndarray) -> np.ndarray:\n",
    "            self.inputs_prime = outputs_prime\n",
    "            return self.inputs_prime\n",
    "\n",
    "        def predictions(outputs: np.ndarray) -> np.ndarray:\n",
    "            return outputs\n",
    "\n",
    "        super().__init__(activation_function, activation_function_prime, predictions)"
   ],
   "id": "97ea28e35b6b33b7",
   "outputs": [],
   "execution_count": 57
  },
  {
   "metadata": {},
   "cell_type": "markdown",
   "source": "### Rectified Linear Unit (ReLu) Function",
   "id": "bfc59dd8b7241c75"
  },
  {
   "metadata": {
    "ExecuteTime": {
     "end_time": "2024-08-10T22:41:51.323210Z",
     "start_time": "2024-08-10T22:41:51.313626Z"
    }
   },
   "cell_type": "code",
   "source": [
    "class ActivationReLU(ActivationFunction):\n",
    "    def __init__(self):\n",
    "        def activation_function(inputs: np.ndarray) -> np.ndarray:\n",
    "            self.outputs = np.maximum(0, inputs)\n",
    "            return self.outputs\n",
    "\n",
    "        def activation_function_prime(outputs_prime: np.ndarray) -> np.ndarray:\n",
    "            self.inputs_prime = outputs_prime.copy()\n",
    "            self.inputs_prime[self.inputs <= 0] = 0\n",
    "\n",
    "            return self.inputs_prime\n",
    "\n",
    "        def predictions(outputs: np.ndarray) -> np.ndarray:\n",
    "            return outputs\n",
    "\n",
    "        super().__init__(activation_function, activation_function_prime, predictions)"
   ],
   "id": "1b1166c2b2005017",
   "outputs": [],
   "execution_count": 58
  },
  {
   "metadata": {},
   "cell_type": "markdown",
   "source": "### Softmax Function",
   "id": "d38e43c9bacb11e4"
  },
  {
   "metadata": {
    "ExecuteTime": {
     "end_time": "2024-08-10T22:41:51.533378Z",
     "start_time": "2024-08-10T22:41:51.517779Z"
    }
   },
   "cell_type": "code",
   "source": [
    "class ActivationSoftmax(ActivationFunction):\n",
    "    def __init__(self):\n",
    "        def activation_function(inputs: np.ndarray) -> np.ndarray:\n",
    "            exp_values = np.exp(inputs - np.max(inputs, axis=1, keepdims=True))\n",
    "            self.outputs =  exp_values / np.sum(exp_values, axis=1, keepdims=True)\n",
    "\n",
    "            return self.outputs\n",
    "\n",
    "        def activation_function_prime(outputs_prime: np.ndarray) -> np.ndarray:\n",
    "            self.inputs_prime = np.empty_like(outputs_prime)\n",
    "\n",
    "            for index, (single_output, single_output_prime) in enumerate(zip(self.outputs, outputs_prime)):\n",
    "                single_output = single_output.reshape(-1, 1)\n",
    "                jacobian_matrix = np.diagflat(single_output) - np.dot(single_output, single_output.T)\n",
    "\n",
    "                self.inputs_prime[index] = np.dot(jacobian_matrix, single_output_prime)\n",
    "\n",
    "            return self.inputs_prime\n",
    "        \n",
    "        def predictions(outputs: np.ndarray) -> np.ndarray:\n",
    "            return np.argmax(outputs, axis=1)\n",
    "\n",
    "        super().__init__(activation_function, activation_function_prime, predictions)\n",
    "\n",
    "    def loss_backward(self, outputs_prime, y_true):\n",
    "        samples = len(outputs_prime)\n",
    "\n",
    "        if len(y_true.shape) == 2:\n",
    "            y_true = np.argmax(y_true, axis=1)\n",
    "\n",
    "        self.inputs_prime = outputs_prime.copy()\n",
    "        self.inputs_prime[range(samples), y_true] -= 1\n",
    "        self.inputs_prime /= samples\n",
    "\n",
    "        return self.inputs_prime"
   ],
   "id": "1ea9e31d1827e14d",
   "outputs": [],
   "execution_count": 59
  },
  {
   "metadata": {},
   "cell_type": "markdown",
   "source": "### Sigmoid Function",
   "id": "906611e0aac0864c"
  },
  {
   "metadata": {
    "ExecuteTime": {
     "end_time": "2024-08-10T22:41:51.624319Z",
     "start_time": "2024-08-10T22:41:51.612699Z"
    }
   },
   "cell_type": "code",
   "source": [
    "class ActivationSigmoid(ActivationFunction):\n",
    "    def __init__(self):\n",
    "        def activation_function(inputs: np.ndarray) -> np.ndarray:\n",
    "            self.outputs = 1 / (1 + np.exp(-inputs))\n",
    "            return self.outputs\n",
    "        \n",
    "        def activation_function_prime(outputs_prime: np.ndarray) -> np.ndarray:\n",
    "            self.inputs_prime = outputs_prime * self.outputs * (1 - self.outputs)\n",
    "            return self.inputs_prime\n",
    "\n",
    "        def predictions(outputs: np.ndarray) -> np.ndarray:\n",
    "            return (outputs > 0.5) * 1\n",
    "\n",
    "        super().__init__(activation_function, activation_function_prime, predictions)"
   ],
   "id": "9d1c459b483536cd",
   "outputs": [],
   "execution_count": 60
  },
  {
   "metadata": {},
   "cell_type": "markdown",
   "source": "## Loss",
   "id": "bef49c56fdb5fd80"
  },
  {
   "metadata": {
    "ExecuteTime": {
     "end_time": "2024-08-10T22:41:51.775869Z",
     "start_time": "2024-08-10T22:41:51.759222Z"
    }
   },
   "cell_type": "code",
   "source": [
    "class Loss:\n",
    "    def __init__(self):\n",
    "        self.trainable_layers = np.array([])\n",
    "\n",
    "    def forward(self, y_pred, y_true):\n",
    "        pass\n",
    "    \n",
    "    def backward(self, outputs_prime, y_true):\n",
    "        pass\n",
    "\n",
    "    def calculate(self, y_pred, y_true) -> float:\n",
    "        sample_losses = self.forward(y_pred, y_true)\n",
    "        data_loss = np.mean(sample_losses)\n",
    "        \n",
    "        return data_loss\n",
    "    \n",
    "    def regularization_loss(self, layer) -> float:\n",
    "        regularization_loss = 0.\n",
    "        \n",
    "        for layer in self.trainable_layers:\n",
    "            if layer.weight_regularizer_l1 > 0:\n",
    "                regularization_loss += layer.weight_regularizer_l1 * np.sum(np.abs(layer.weights))\n",
    "            if layer.weight_regularizer_l2 > 0:\n",
    "                regularization_loss += layer.weight_regularizer_l2 * np.sum(layer.weights * layer.weights)\n",
    "    \n",
    "            if layer.bias_regularizer_l1 > 0:\n",
    "                regularization_loss += layer.bias_regularizer_l1 * np.sum(np.abs(layer.biases))\n",
    "            if layer.bias_regularizer_l2 > 0:\n",
    "                regularization_loss += layer.bias_regularizer_l2 * np.sum(layer.biases * layer.biases)\n",
    "    \n",
    "        return regularization_loss\n",
    "    \n",
    "    def remember_trainable_layers(self, trainable_layers: np.ndarray) -> None:\n",
    "        self.trainable_layers = trainable_layers"
   ],
   "id": "259395065414f493",
   "outputs": [],
   "execution_count": 61
  },
  {
   "metadata": {},
   "cell_type": "markdown",
   "source": "### Categorical Cross-Entropy Loss",
   "id": "7e81c85976d9751c"
  },
  {
   "metadata": {
    "ExecuteTime": {
     "end_time": "2024-08-10T22:41:51.798476Z",
     "start_time": "2024-08-10T22:41:51.781870Z"
    }
   },
   "cell_type": "code",
   "source": [
    "class CategoricalCrossentropy(Loss):\n",
    "    def forward(self, y_pred, y_true) -> np.ndarray:\n",
    "        samples = len(y_pred)\n",
    "        y_pred_clipped = np.clip(y_pred, 1e-7, 1 - 1e-7)\n",
    "        correct_confidences = np.array([])\n",
    "\n",
    "        if len(y_true.shape) == 1:\n",
    "            correct_confidences = y_pred_clipped[\n",
    "                range(samples),\n",
    "                y_true\n",
    "            ]\n",
    "        elif len(y_true.shape) == 2:\n",
    "            correct_confidences = np.sum(\n",
    "                y_pred_clipped * y_true,\n",
    "                axis=1\n",
    "            )\n",
    "\n",
    "        negative_log_likelihoods = -np.log(correct_confidences)\n",
    "        return negative_log_likelihoods\n",
    "\n",
    "    def backward(self, outputs_prime, y_true):\n",
    "        samples = len(outputs_prime)\n",
    "        labels = len(outputs_prime[0])\n",
    "\n",
    "        if len(y_true.shape) == 1:\n",
    "            y_true = np.eye(labels)[y_true]\n",
    "\n",
    "        inputs_prime = (-y_true / outputs_prime) / samples\n",
    "        return inputs_prime"
   ],
   "id": "192b2d02de04fb9f",
   "outputs": [],
   "execution_count": 62
  },
  {
   "metadata": {},
   "cell_type": "markdown",
   "source": "### Binary Cross-Entropy Loss",
   "id": "26a9e2a7334b4072"
  },
  {
   "metadata": {
    "ExecuteTime": {
     "end_time": "2024-08-10T22:41:51.815293Z",
     "start_time": "2024-08-10T22:41:51.801474Z"
    }
   },
   "cell_type": "code",
   "source": [
    "class BinaryCrossentropy(Loss):\n",
    "    def forward(self, y_pred, y_true) -> np.ndarray:\n",
    "        y_pred_clipped = np.clip(y_pred, 1e-7, 1 - 1e-7)\n",
    "        sample_losses = -(y_true * np.log(y_pred_clipped) + (1 - y_true) * np.log(1 - y_pred_clipped))\n",
    "        sample_losses = np.mean(sample_losses, axis=1)\n",
    "        \n",
    "        return sample_losses\n",
    "    \n",
    "    def backward(self, outputs_prime, y_true) -> np.ndarray:\n",
    "        samples = len(outputs_prime)\n",
    "        outputs = len(outputs_prime[0])\n",
    "        clipped_outputs_prime = np.clip(outputs_prime, 1e-7, 1 - 1e-7)\n",
    "        \n",
    "        inputs_prime = -(y_true / clipped_outputs_prime - (1 - y_true) / (1 - clipped_outputs_prime)) / outputs\n",
    "        inputs_prime /= samples\n",
    "        \n",
    "        return inputs_prime"
   ],
   "id": "bda24646cc31bde2",
   "outputs": [],
   "execution_count": 63
  },
  {
   "metadata": {},
   "cell_type": "markdown",
   "source": "### Mean Squared Error Loss",
   "id": "8302accde81738d8"
  },
  {
   "metadata": {
    "ExecuteTime": {
     "end_time": "2024-08-10T22:41:51.832275Z",
     "start_time": "2024-08-10T22:41:51.822288Z"
    }
   },
   "cell_type": "code",
   "source": [
    "class MeanSquaredError(Loss):\n",
    "    def forward(self, y_pred, y_true):\n",
    "        sample_losses = np.mean((y_true - y_pred) ** 2, axis=1)\n",
    "        return sample_losses\n",
    "    \n",
    "    def backward(self, outputs_prime, y_true):\n",
    "        samples = len(outputs_prime)\n",
    "        outputs = len(outputs_prime[0])\n",
    "        \n",
    "        inputs_prime = -2 * (y_true - outputs_prime) / outputs\n",
    "        inputs_prime /= samples\n",
    "        \n",
    "        return inputs_prime"
   ],
   "id": "a081222759a19dcc",
   "outputs": [],
   "execution_count": 64
  },
  {
   "metadata": {},
   "cell_type": "markdown",
   "source": "### Mean Absolute Error",
   "id": "87ae459d7c60c138"
  },
  {
   "metadata": {
    "ExecuteTime": {
     "end_time": "2024-08-10T22:41:51.849785Z",
     "start_time": "2024-08-10T22:41:51.839379Z"
    }
   },
   "cell_type": "code",
   "source": [
    "class MeanAbsoluteError(Loss):\n",
    "    def forward(self, y_pred, y_true):\n",
    "        sample_losses = np.mean(np.abs(y_true - y_pred), axis=1)\n",
    "        return sample_losses\n",
    "\n",
    "    def backward(self, outputs_prime, y_true):\n",
    "        samples = len(outputs_prime)\n",
    "        outputs = len(outputs_prime[0])\n",
    "\n",
    "        inputs_prime = np.sign(y_true - outputs_prime) / outputs\n",
    "        inputs_prime /= samples\n",
    "\n",
    "        return inputs_prime"
   ],
   "id": "2d9c77c0807a686a",
   "outputs": [],
   "execution_count": 65
  },
  {
   "metadata": {},
   "cell_type": "markdown",
   "source": "## Optimizers",
   "id": "59af597caced2024"
  },
  {
   "metadata": {},
   "cell_type": "markdown",
   "source": "### Stochastic Gradient Descent (SGD)",
   "id": "ba6a5b09f0e3070f"
  },
  {
   "metadata": {
    "ExecuteTime": {
     "end_time": "2024-08-10T22:41:51.869105Z",
     "start_time": "2024-08-10T22:41:51.853788Z"
    }
   },
   "cell_type": "code",
   "source": [
    "class OptimizerSGD:\n",
    "    def __init__(self, learning_rate=1., decay=0., momentum=0.):\n",
    "        self.learning_rate = learning_rate\n",
    "        self.current_learning_rate = learning_rate\n",
    "        self.decay = decay\n",
    "        self.momentum = momentum\n",
    "        self.iterations = 0\n",
    "        \n",
    "    def pre_update_params(self):\n",
    "        if self.decay:\n",
    "            self.current_learning_rate = self.learning_rate * (1. / (1. + self.decay * self.iterations))\n",
    "        \n",
    "    def update_params(self, layer: Layer):\n",
    "        if self.momentum:\n",
    "            if not hasattr(layer, 'weights_momentum'):\n",
    "                layer.weights_momentum = np.zeros_like(layer.weights)\n",
    "                layer.biases_momentum = np.zeros_like(layer.biases)\n",
    "            \n",
    "            weights_update = self.momentum * layer.weights_momentum - self.current_learning_rate * layer.weights_prime\n",
    "            layer.weights_momentum = weights_update\n",
    "            \n",
    "            biases_update = self.momentum * layer.biases_momentum - self.current_learning_rate * layer.biases_prime\n",
    "            layer.biases_momentum = biases_update\n",
    "        \n",
    "        else:\n",
    "            weights_update = -self.current_learning_rate * layer.weights_prime\n",
    "            biases_update = -self.current_learning_rate * layer.biases_prime\n",
    "            \n",
    "        layer.weights += weights_update\n",
    "        layer.biases += biases_update\n",
    "        \n",
    "    def post_update_params(self):\n",
    "        self.iterations += 1"
   ],
   "id": "382d228ff2d24587",
   "outputs": [],
   "execution_count": 66
  },
  {
   "metadata": {},
   "cell_type": "markdown",
   "source": "### Adaptative Gradient (AdaGrad)",
   "id": "2fd8864fa9051584"
  },
  {
   "metadata": {
    "ExecuteTime": {
     "end_time": "2024-08-10T22:41:51.918106Z",
     "start_time": "2024-08-10T22:41:51.902021Z"
    }
   },
   "cell_type": "code",
   "source": [
    "class OptimizerAdaGrad:\n",
    "    def __init__(self, learning_rate=1., decay=0., epsilon=1e-7):\n",
    "        self.learning_rate = learning_rate\n",
    "        self.current_learning_rate = learning_rate\n",
    "        self.decay = decay\n",
    "        self.epsilon = epsilon\n",
    "        self.iterations = 0\n",
    "\n",
    "    def pre_update_params(self):\n",
    "        if self.decay:\n",
    "            self.current_learning_rate = self.learning_rate * (1. / (1. + self.decay * self.iterations))\n",
    "\n",
    "    def update_params(self, layer: Layer):\n",
    "        if not hasattr(layer, 'weights_cache'):\n",
    "            layer.weights_cache = np.zeros_like(layer.weights)\n",
    "            layer.biases_cache = np.zeros_like(layer.biases)\n",
    "\n",
    "        layer.weights_cache += layer.weights_prime ** 2\n",
    "        layer.biases_cache += layer.biases_prime ** 2\n",
    "\n",
    "        layer.weights += -self.current_learning_rate * layer.weights_prime / (np.sqrt(layer.weights_cache) + self.epsilon)\n",
    "        layer.biases += -self.current_learning_rate * layer.biases_prime / (np.sqrt(layer.biases_cache) + self.epsilon)\n",
    "\n",
    "    def post_update_params(self):\n",
    "        self.iterations += 1"
   ],
   "id": "bccd98babdeaa83b",
   "outputs": [],
   "execution_count": 67
  },
  {
   "metadata": {},
   "cell_type": "markdown",
   "source": "### Root Mean Square Propagation (RMSProp)",
   "id": "53ca0bac1d966405"
  },
  {
   "metadata": {
    "ExecuteTime": {
     "end_time": "2024-08-10T22:41:52.043281Z",
     "start_time": "2024-08-10T22:41:52.030305Z"
    }
   },
   "cell_type": "code",
   "source": [
    "class OptimizerRMSProp:\n",
    "    def __init__(self, learning_rate=0.001, decay=0., epsilon=1e-7, rho=0.9):\n",
    "        self.learning_rate = learning_rate\n",
    "        self.current_learning_rate = learning_rate\n",
    "        self.decay = decay\n",
    "        self.epsilon = epsilon\n",
    "        self.rho = rho\n",
    "        self.iterations = 0\n",
    "\n",
    "    def pre_update_params(self):\n",
    "        if self.decay:\n",
    "            self.current_learning_rate = self.learning_rate * (1. / (1. + self.decay * self.iterations))\n",
    "\n",
    "    def update_params(self, layer: Layer):\n",
    "        if not hasattr(layer, 'weights_cache'):\n",
    "            layer.weights_cache = np.zeros_like(layer.weights)\n",
    "            layer.biases_cache = np.zeros_like(layer.biases)\n",
    "\n",
    "        layer.weights_cache = self.rho * layer.weights_cache + (1 - self.rho) * layer.weights_prime ** 2\n",
    "        layer.biases_cache = self.rho * layer.biases_cache + (1 - self.rho) * layer.biases_prime ** 2\n",
    "\n",
    "        layer.weights += -self.current_learning_rate * layer.weights_prime / (np.sqrt(layer.weights_cache) + self.epsilon)\n",
    "        layer.biases += -self.current_learning_rate * layer.biases_prime / (np.sqrt(layer.biases_cache) + self.epsilon)\n",
    "\n",
    "    def post_update_params(self):\n",
    "        self.iterations += 1"
   ],
   "id": "850861621ed9d7f2",
   "outputs": [],
   "execution_count": 68
  },
  {
   "metadata": {},
   "cell_type": "markdown",
   "source": "### Adaptative Momentum (Adam)",
   "id": "b10c9cd6bd7c758c"
  },
  {
   "metadata": {
    "ExecuteTime": {
     "end_time": "2024-08-10T22:41:52.197523Z",
     "start_time": "2024-08-10T22:41:52.176538Z"
    }
   },
   "cell_type": "code",
   "source": [
    "class OptimizerAdam:\n",
    "    def __init__(self, learning_rate=0.001, decay=0., epsilon=1e-7, beta1=0.9, beta2=0.999):\n",
    "        self.learning_rate = learning_rate\n",
    "        self.current_learning_rate = learning_rate\n",
    "        self.decay = decay\n",
    "        self.iterations = 0\n",
    "        self.epsilon = epsilon\n",
    "        self.beta1 = beta1\n",
    "        self.beta2 = beta2\n",
    "        \n",
    "    def pre_update_params(self):\n",
    "        if self.decay:\n",
    "            self.current_learning_rate = self.learning_rate * (1. / (1. + self.decay * self.iterations))\n",
    "\n",
    "    def update_params(self, layer: Layer):\n",
    "        if not hasattr(layer, 'weights_cache'):\n",
    "            layer.weights_momentum = np.zeros_like(layer.weights)\n",
    "            layer.weights_cache = np.zeros_like(layer.weights)\n",
    "            layer.biases_momentum = np.zeros_like(layer.biases)\n",
    "            layer.biases_cache = np.zeros_like(layer.biases)\n",
    "        \n",
    "        layer.weights_momentum = self.beta1 * layer.weights_momentum + (1 - self.beta1) * layer.weights_prime\n",
    "        layer.biases_momentum = self.beta1 * layer.biases_momentum + (1 - self.beta1) * layer.biases_prime\n",
    "        weights_momentum_corrected = layer.weights_momentum / (1 - self.beta1 ** (self.iterations + 1))\n",
    "        biases_momentum_corrected = layer.biases_momentum / (1 - self.beta1 ** (self.iterations + 1))\n",
    "        \n",
    "        layer.weights_cache = self.beta2 * layer.weights_cache + (1 - self.beta2) * layer.weights_prime ** 2\n",
    "        layer.biases_cache = self.beta2 * layer.biases_cache + (1 - self.beta2) * layer.biases_prime ** 2\n",
    "        weights_cache_corrected = layer.weights_cache / (1 - self.beta2 ** (self.iterations + 1))\n",
    "        biases_cache_corrected = layer.biases_cache / (1 - self.beta2 ** (self.iterations + 1))\n",
    "        \n",
    "        layer.weights += -self.current_learning_rate * weights_momentum_corrected / (np.sqrt(weights_cache_corrected) + self.epsilon)\n",
    "        layer.biases += -self.current_learning_rate * biases_momentum_corrected / (np.sqrt(biases_cache_corrected) + self.epsilon)\n",
    "        \n",
    "    def post_update_params(self):\n",
    "        self.iterations += 1"
   ],
   "id": "1631fae129ac2f42",
   "outputs": [],
   "execution_count": 69
  },
  {
   "metadata": {
    "ExecuteTime": {
     "end_time": "2024-08-10T22:41:52.212824Z",
     "start_time": "2024-08-10T22:41:52.202513Z"
    }
   },
   "cell_type": "code",
   "source": [
    "class Accuracy:\n",
    "    def calculate(self, predictions, y):\n",
    "        comparisons = self.compare(predictions, y)\n",
    "        accuracy = np.mean(comparisons)\n",
    "        return accuracy"
   ],
   "id": "251b76ab776c905f",
   "outputs": [],
   "execution_count": 70
  },
  {
   "metadata": {},
   "cell_type": "markdown",
   "source": "# Model",
   "id": "6b8f41320d3656fb"
  },
  {
   "metadata": {
    "ExecuteTime": {
     "end_time": "2024-08-10T22:41:52.241572Z",
     "start_time": "2024-08-10T22:41:52.216818Z"
    }
   },
   "cell_type": "code",
   "source": [
    "class NeuralNetwork:\n",
    "    def __init__(self):\n",
    "        self.layers = []\n",
    "        self.optimizer = None\n",
    "        self.loss = None\n",
    "        self.input_layer = None\n",
    "        \n",
    "    def add(self, layer):\n",
    "        self.layers.append(layer)\n",
    "        \n",
    "    def set(self, *, loss, optimizer):\n",
    "        self.loss = loss\n",
    "        self.optimizer = optimizer\n",
    "\n",
    "    def finalize(self):\n",
    "        self.input_layer = InputLayer()\n",
    "        layer_count = len(self.layers)\n",
    "        \n",
    "        for i in range(layer_count):\n",
    "            if i == 0:\n",
    "                self.layers[i].prev = self.input_layer\n",
    "                self.layers[i].next = self.layers[i + 1]\n",
    "                \n",
    "            elif i < layer_count - 1:\n",
    "                self.layers[i].prev = self.layers[i - 1]\n",
    "                self.layers[i].next = self.layers[i + 1]\n",
    "                \n",
    "            else:\n",
    "                self.layers[i].prev = self.layers[i - 1]\n",
    "                self.layers[i].next = self.loss\n",
    "                self.output_layer_activation = self.layers[i]\n",
    "                \n",
    "        if hasattr(self.layers[i], 'weights'):\n",
    "            self.trainable_layers.append(self.layers[i])\n",
    "                \n",
    "    def forward(self, x):\n",
    "        output = self.input_layer.forward(x)\n",
    "        \n",
    "        for layer in self.layers:\n",
    "            output = layer.forward(output)\n",
    "            \n",
    "        return output\n",
    "\n",
    "    def train(self, x, y, *, epochs=10000, print_every=100):\n",
    "        for epoch in range(1, epochs + 1):\n",
    "            output = self.forward(x)\n",
    "            print(output)\n",
    "            exit()"
   ],
   "id": "e91eb273ac920776",
   "outputs": [],
   "execution_count": 71
  },
  {
   "metadata": {
    "ExecuteTime": {
     "end_time": "2024-08-10T22:41:52.393089Z",
     "start_time": "2024-08-10T22:41:52.246562Z"
    }
   },
   "cell_type": "code",
   "source": [
    "x, y = nnfs.datasets.sine_data()\n",
    "model = NeuralNetwork()\n",
    "\n",
    "model.add(DenseLayer(1, 64))\n",
    "model.add(ActivationReLU())\n",
    "model.add(DenseLayer(64, 64))\n",
    "model.add(ActivationReLU())\n",
    "model.add(DenseLayer(64, 1))\n",
    "model.add(ActivationLinear())\n",
    "\n",
    "model.set(\n",
    "    loss=MeanSquaredError(),\n",
    "    optimizer=OptimizerAdam(learning_rate=0.005, decay=1e-3)\n",
    ")\n",
    "\n",
    "model.finalize()"
   ],
   "id": "42a1dc30eeb2cfbc",
   "outputs": [],
   "execution_count": 72
  },
  {
   "metadata": {},
   "cell_type": "markdown",
   "source": "# Testing 3",
   "id": "5ee0e918b8b011f7"
  },
  {
   "metadata": {
    "ExecuteTime": {
     "end_time": "2024-08-10T22:42:22.361156Z",
     "start_time": "2024-08-10T22:41:52.399076Z"
    }
   },
   "cell_type": "code",
   "source": [
    "x, y = nnfs.datasets.sine_data()\n",
    "\n",
    "dense1 = DenseLayer(1, 64)\n",
    "activation1 = ActivationReLU()\n",
    "dense2 = DenseLayer(64, 64)\n",
    "activation2 = ActivationReLU()\n",
    "dense3 = DenseLayer(64, 1)\n",
    "activation3 = ActivationLinear()\n",
    "\n",
    "loss_function = MeanSquaredError()\n",
    "optimizer = OptimizerAdam(learning_rate=0.005, decay=1e-3)\n",
    "accuracy_precision = np.std(y) / 250\n",
    "\n",
    "for epoch in range(10001):\n",
    "    dense1_outputs = dense1.forward(x)\n",
    "    activation1_outputs = activation1.forward(dense1_outputs)\n",
    "    dense2_outputs = dense2.forward(activation1_outputs)\n",
    "    activation2_outputs = activation2.forward(dense2_outputs)\n",
    "    dense3_outputs = dense3.forward(activation2_outputs)\n",
    "    activation3_outputs = activation3.forward(dense3_outputs)\n",
    "    \n",
    "    data_loss = loss_function.calculate(activation3_outputs, y)\n",
    "    regularization_loss = loss_function.regularization_loss(dense1) + loss_function.regularization_loss(dense2) + loss_function.regularization_loss(dense3)\n",
    "    loss = data_loss + regularization_loss\n",
    "    \n",
    "    accuracy = np.mean(np.absolute(activation3_outputs - y) < accuracy_precision)\n",
    "    \n",
    "    if not epoch % 100:\n",
    "        print(f'epoch: {epoch}, '\n",
    "              f'loss: {loss:.3f}, '\n",
    "              f'accuracy: {accuracy:.3f}, '\n",
    "              f'lr: {optimizer.current_learning_rate:.5f}')\n",
    "\n",
    "    loss_outputs = loss_function.backward(activation3_outputs, y)\n",
    "    activation3_inputs_prime = activation3.backward(loss_outputs)\n",
    "    dense3_inputs_prime = dense3.backward(activation3_inputs_prime)\n",
    "    activation2_inputs_prime = activation2.backward(dense3_inputs_prime)\n",
    "    dense2_inputs_prime = dense2.backward(activation2_inputs_prime)\n",
    "    activation1_inputs_prime = activation1.backward(dense2_inputs_prime)\n",
    "    dense1_inputs_prime = dense1.backward(activation1_inputs_prime)\n",
    "    \n",
    "    optimizer.pre_update_params()\n",
    "    optimizer.update_params(dense1)\n",
    "    optimizer.update_params(dense2)\n",
    "    optimizer.update_params(dense3)\n",
    "    optimizer.post_update_params()"
   ],
   "id": "2f1b01ab636f34bc",
   "outputs": [
    {
     "name": "stdout",
     "output_type": "stream",
     "text": [
      "epoch: 0, loss: 0.500, accuracy: 0.002, lr: 0.00500\n",
      "epoch: 100, loss: 0.085, accuracy: 0.005, lr: 0.00455\n",
      "epoch: 200, loss: 0.025, accuracy: 0.023, lr: 0.00417\n",
      "epoch: 300, loss: 0.002, accuracy: 0.038, lr: 0.00385\n",
      "epoch: 400, loss: 0.000, accuracy: 0.486, lr: 0.00357\n",
      "epoch: 500, loss: 0.000, accuracy: 0.570, lr: 0.00334\n",
      "epoch: 600, loss: 0.000, accuracy: 0.564, lr: 0.00313\n",
      "epoch: 700, loss: 0.000, accuracy: 0.750, lr: 0.00294\n",
      "epoch: 800, loss: 0.000, accuracy: 0.784, lr: 0.00278\n",
      "epoch: 900, loss: 0.000, accuracy: 0.799, lr: 0.00263\n",
      "epoch: 1000, loss: 0.000, accuracy: 0.815, lr: 0.00250\n",
      "epoch: 1100, loss: 0.000, accuracy: 0.828, lr: 0.00238\n",
      "epoch: 1200, loss: 0.000, accuracy: 0.839, lr: 0.00227\n",
      "epoch: 1300, loss: 0.000, accuracy: 0.804, lr: 0.00217\n",
      "epoch: 1400, loss: 0.000, accuracy: 0.857, lr: 0.00208\n",
      "epoch: 1500, loss: 0.000, accuracy: 0.108, lr: 0.00200\n",
      "epoch: 1600, loss: 0.000, accuracy: 0.872, lr: 0.00192\n",
      "epoch: 1700, loss: 0.000, accuracy: 0.880, lr: 0.00185\n",
      "epoch: 1800, loss: 0.000, accuracy: 0.887, lr: 0.00179\n",
      "epoch: 1900, loss: 0.000, accuracy: 0.895, lr: 0.00172\n",
      "epoch: 2000, loss: 0.000, accuracy: 0.900, lr: 0.00167\n",
      "epoch: 2100, loss: 0.000, accuracy: 0.915, lr: 0.00161\n",
      "epoch: 2200, loss: 0.000, accuracy: 0.920, lr: 0.00156\n",
      "epoch: 2300, loss: 0.000, accuracy: 0.773, lr: 0.00152\n",
      "epoch: 2400, loss: 0.000, accuracy: 0.926, lr: 0.00147\n",
      "epoch: 2500, loss: 0.000, accuracy: 0.932, lr: 0.00143\n",
      "epoch: 2600, loss: 0.000, accuracy: 0.932, lr: 0.00139\n",
      "epoch: 2700, loss: 0.000, accuracy: 0.937, lr: 0.00135\n",
      "epoch: 2800, loss: 0.000, accuracy: 0.480, lr: 0.00132\n",
      "epoch: 2900, loss: 0.000, accuracy: 0.941, lr: 0.00128\n"
     ]
    },
    {
     "ename": "KeyboardInterrupt",
     "evalue": "",
     "output_type": "error",
     "traceback": [
      "\u001B[1;31m---------------------------------------------------------------------------\u001B[0m",
      "\u001B[1;31mKeyboardInterrupt\u001B[0m                         Traceback (most recent call last)",
      "Cell \u001B[1;32mIn[73], line 22\u001B[0m\n\u001B[0;32m     19\u001B[0m dense3_outputs \u001B[38;5;241m=\u001B[39m dense3\u001B[38;5;241m.\u001B[39mforward(activation2_outputs)\n\u001B[0;32m     20\u001B[0m activation3_outputs \u001B[38;5;241m=\u001B[39m activation3\u001B[38;5;241m.\u001B[39mforward(dense3_outputs)\n\u001B[1;32m---> 22\u001B[0m data_loss \u001B[38;5;241m=\u001B[39m loss_function\u001B[38;5;241m.\u001B[39mcalculate(activation3_outputs, y)\n\u001B[0;32m     23\u001B[0m regularization_loss \u001B[38;5;241m=\u001B[39m loss_function\u001B[38;5;241m.\u001B[39mregularization_loss(dense1) \u001B[38;5;241m+\u001B[39m loss_function\u001B[38;5;241m.\u001B[39mregularization_loss(dense2) \u001B[38;5;241m+\u001B[39m loss_function\u001B[38;5;241m.\u001B[39mregularization_loss(dense3)\n\u001B[0;32m     24\u001B[0m loss \u001B[38;5;241m=\u001B[39m data_loss \u001B[38;5;241m+\u001B[39m regularization_loss\n",
      "Cell \u001B[1;32mIn[61], line 12\u001B[0m, in \u001B[0;36mLoss.calculate\u001B[1;34m(self, y_pred, y_true)\u001B[0m\n\u001B[0;32m     11\u001B[0m \u001B[38;5;28;01mdef\u001B[39;00m \u001B[38;5;21mcalculate\u001B[39m(\u001B[38;5;28mself\u001B[39m, y_pred, y_true) \u001B[38;5;241m-\u001B[39m\u001B[38;5;241m>\u001B[39m \u001B[38;5;28mfloat\u001B[39m:\n\u001B[1;32m---> 12\u001B[0m     sample_losses \u001B[38;5;241m=\u001B[39m \u001B[38;5;28mself\u001B[39m\u001B[38;5;241m.\u001B[39mforward(y_pred, y_true)\n\u001B[0;32m     13\u001B[0m     data_loss \u001B[38;5;241m=\u001B[39m np\u001B[38;5;241m.\u001B[39mmean(sample_losses)\n\u001B[0;32m     15\u001B[0m     \u001B[38;5;28;01mreturn\u001B[39;00m data_loss\n",
      "Cell \u001B[1;32mIn[64], line 3\u001B[0m, in \u001B[0;36mMeanSquaredError.forward\u001B[1;34m(self, y_pred, y_true)\u001B[0m\n\u001B[0;32m      2\u001B[0m \u001B[38;5;28;01mdef\u001B[39;00m \u001B[38;5;21mforward\u001B[39m(\u001B[38;5;28mself\u001B[39m, y_pred, y_true):\n\u001B[1;32m----> 3\u001B[0m     sample_losses \u001B[38;5;241m=\u001B[39m np\u001B[38;5;241m.\u001B[39mmean((y_true \u001B[38;5;241m-\u001B[39m y_pred) \u001B[38;5;241m*\u001B[39m\u001B[38;5;241m*\u001B[39m \u001B[38;5;241m2\u001B[39m, axis\u001B[38;5;241m=\u001B[39m\u001B[38;5;241m1\u001B[39m)\n\u001B[0;32m      4\u001B[0m     \u001B[38;5;28;01mreturn\u001B[39;00m sample_losses\n",
      "File \u001B[1;32m~\\miniconda3\\Lib\\site-packages\\numpy\\core\\fromnumeric.py:3504\u001B[0m, in \u001B[0;36mmean\u001B[1;34m(a, axis, dtype, out, keepdims, where)\u001B[0m\n\u001B[0;32m   3501\u001B[0m     \u001B[38;5;28;01melse\u001B[39;00m:\n\u001B[0;32m   3502\u001B[0m         \u001B[38;5;28;01mreturn\u001B[39;00m mean(axis\u001B[38;5;241m=\u001B[39maxis, dtype\u001B[38;5;241m=\u001B[39mdtype, out\u001B[38;5;241m=\u001B[39mout, \u001B[38;5;241m*\u001B[39m\u001B[38;5;241m*\u001B[39mkwargs)\n\u001B[1;32m-> 3504\u001B[0m \u001B[38;5;28;01mreturn\u001B[39;00m _methods\u001B[38;5;241m.\u001B[39m_mean(a, axis\u001B[38;5;241m=\u001B[39maxis, dtype\u001B[38;5;241m=\u001B[39mdtype,\n\u001B[0;32m   3505\u001B[0m                       out\u001B[38;5;241m=\u001B[39mout, \u001B[38;5;241m*\u001B[39m\u001B[38;5;241m*\u001B[39mkwargs)\n",
      "File \u001B[1;32m~\\miniconda3\\Lib\\site-packages\\numpy\\core\\_methods.py:121\u001B[0m, in \u001B[0;36m_mean\u001B[1;34m(a, axis, dtype, out, keepdims, where)\u001B[0m\n\u001B[0;32m    119\u001B[0m \u001B[38;5;28;01mif\u001B[39;00m \u001B[38;5;28misinstance\u001B[39m(ret, mu\u001B[38;5;241m.\u001B[39mndarray):\n\u001B[0;32m    120\u001B[0m     \u001B[38;5;28;01mwith\u001B[39;00m _no_nep50_warning():\n\u001B[1;32m--> 121\u001B[0m         ret \u001B[38;5;241m=\u001B[39m um\u001B[38;5;241m.\u001B[39mtrue_divide(\n\u001B[0;32m    122\u001B[0m                 ret, rcount, out\u001B[38;5;241m=\u001B[39mret, casting\u001B[38;5;241m=\u001B[39m\u001B[38;5;124m'\u001B[39m\u001B[38;5;124munsafe\u001B[39m\u001B[38;5;124m'\u001B[39m, subok\u001B[38;5;241m=\u001B[39m\u001B[38;5;28;01mFalse\u001B[39;00m)\n\u001B[0;32m    123\u001B[0m     \u001B[38;5;28;01mif\u001B[39;00m is_float16_result \u001B[38;5;129;01mand\u001B[39;00m out \u001B[38;5;129;01mis\u001B[39;00m \u001B[38;5;28;01mNone\u001B[39;00m:\n\u001B[0;32m    124\u001B[0m         ret \u001B[38;5;241m=\u001B[39m arr\u001B[38;5;241m.\u001B[39mdtype\u001B[38;5;241m.\u001B[39mtype(ret)\n",
      "\u001B[1;31mKeyboardInterrupt\u001B[0m: "
     ]
    }
   ],
   "execution_count": 73
  },
  {
   "metadata": {
    "ExecuteTime": {
     "end_time": "2024-08-10T22:42:25.000171Z",
     "start_time": "2024-08-10T22:42:24.547364Z"
    }
   },
   "cell_type": "code",
   "source": [
    "x_test, y_test = nnfs.datasets.sine_data()\n",
    "\n",
    "dense1_outputs = dense1.forward(x_test)\n",
    "activation1_outputs = activation1.forward(dense1_outputs)\n",
    "dense2_outputs = dense2.forward(activation1_outputs)\n",
    "activation2_outputs = activation2.forward(dense2_outputs)\n",
    "dense3_outputs = dense3.forward(activation2_outputs)\n",
    "activation3_outputs = activation3.forward(dense3_outputs)\n",
    "\n",
    "plt.plot(x_test, activation3_outputs)\n",
    "plt.show()"
   ],
   "id": "900342d5254bc04b",
   "outputs": [
    {
     "data": {
      "text/plain": [
       "<Figure size 640x480 with 1 Axes>"
      ],
      "image/png": "[encoded data removed]"
     },
     "metadata": {},
     "output_type": "display_data"
    }
   ],
   "execution_count": 74
  },
  {
   "metadata": {
    "ExecuteTime": {
     "end_time": "2024-08-10T22:42:22.369139Z",
     "start_time": "2024-08-10T22:42:22.368143Z"
    }
   },
   "cell_type": "code",
   "source": "",
   "id": "4f0be0f6cb5b1c39",
   "outputs": [],
   "execution_count": null
  }
 ],
 "metadata": {
  "kernelspec": {
   "display_name": "Python 3",
   "language": "python",
   "name": "python3"
  },
  "language_info": {
   "codemirror_mode": {
    "name": "ipython",
    "version": 2
   },
   "file_extension": ".py",
   "mimetype": "text/x-python",
   "name": "python",
   "nbconvert_exporter": "python",
   "pygments_lexer": "ipython2",
   "version": "2.7.6"
  }
 },
 "nbformat": 4,
 "nbformat_minor": 5
}
