{
 "cells": [
  {
   "metadata": {},
   "cell_type": "markdown",
   "source": "# Imports",
   "id": "779f114835c32dbf"
  },
  {
   "cell_type": "code",
   "id": "initial_id",
   "metadata": {
    "collapsed": true,
    "ExecuteTime": {
     "end_time": "2024-08-12T21:45:17.913293Z",
     "start_time": "2024-08-12T21:45:16.818254Z"
    }
   },
   "source": [
    "import matplotlib.pyplot as plt\n",
    "import nnfs.datasets\n",
    "import nnfs\n",
    "\n",
    "nnfs.init()"
   ],
   "outputs": [],
   "execution_count": 1
  },
  {
   "metadata": {
    "ExecuteTime": {
     "end_time": "2024-08-12T21:45:17.987507Z",
     "start_time": "2024-08-12T21:45:17.915290Z"
    }
   },
   "cell_type": "code",
   "source": [
    "from model.neural_network import NeuralNetwork\n",
    "\n",
    "from model.layers.dense import DenseLayer\n",
    "from model.optimizers.adam import Adam"
   ],
   "id": "21d1d34243c01573",
   "outputs": [],
   "execution_count": 2
  },
  {
   "metadata": {},
   "cell_type": "markdown",
   "source": "# Regression Testing",
   "id": "fd77939e0950a8a0"
  },
  {
   "metadata": {
    "ExecuteTime": {
     "end_time": "2024-08-12T21:45:59.093873Z",
     "start_time": "2024-08-12T21:45:18.738199Z"
    }
   },
   "cell_type": "code",
   "source": [
    "x, y = nnfs.datasets.sine_data()\n",
    "\n",
    "model = NeuralNetwork([\n",
    "    DenseLayer(64, 1, activation='Relu'),\n",
    "    DenseLayer(64, 64, activation='Relu'),\n",
    "    DenseLayer(1, 64)\n",
    "])\n",
    "\n",
    "model.set(\n",
    "    loss='MeanSquaredError',\n",
    "    optimizer=Adam(learning_rate=0.005, decay=1e-3)\n",
    ")\n",
    "\n",
    "model.train(x, y)"
   ],
   "id": "c5f7fabef42e7077",
   "outputs": [
    {
     "name": "stdout",
     "output_type": "stream",
     "text": [
      "epoch: 0, loss: 0.500, accuracy: 0.002, lr: 0.00500\n",
      "epoch: 100, loss: 0.084, accuracy: 0.007, lr: 0.00455\n",
      "epoch: 200, loss: 0.034, accuracy: 0.033, lr: 0.00417\n",
      "epoch: 300, loss: 0.003, accuracy: 0.020, lr: 0.00385\n",
      "epoch: 400, loss: 0.000, accuracy: 0.618, lr: 0.00357\n",
      "epoch: 500, loss: 0.000, accuracy: 0.605, lr: 0.00334\n",
      "epoch: 600, loss: 0.000, accuracy: 0.732, lr: 0.00313\n",
      "epoch: 700, loss: 0.000, accuracy: 0.763, lr: 0.00294\n",
      "epoch: 800, loss: 0.000, accuracy: 0.778, lr: 0.00278\n",
      "epoch: 900, loss: 0.000, accuracy: 0.789, lr: 0.00263\n",
      "epoch: 1000, loss: 0.000, accuracy: 0.135, lr: 0.00250\n",
      "epoch: 1100, loss: 0.000, accuracy: 0.825, lr: 0.00238\n",
      "epoch: 1200, loss: 0.000, accuracy: 0.837, lr: 0.00227\n",
      "epoch: 1300, loss: 0.000, accuracy: 0.453, lr: 0.00217\n",
      "epoch: 1400, loss: 0.000, accuracy: 0.853, lr: 0.00208\n",
      "epoch: 1500, loss: 0.000, accuracy: 0.857, lr: 0.00200\n",
      "epoch: 1600, loss: 0.000, accuracy: 0.861, lr: 0.00192\n",
      "epoch: 1700, loss: 0.000, accuracy: 0.869, lr: 0.00185\n",
      "epoch: 1800, loss: 0.000, accuracy: 0.874, lr: 0.00179\n",
      "epoch: 1900, loss: 0.000, accuracy: 0.882, lr: 0.00172\n",
      "epoch: 2000, loss: 0.000, accuracy: 0.885, lr: 0.00167\n",
      "epoch: 2100, loss: 0.000, accuracy: 0.887, lr: 0.00161\n",
      "epoch: 2200, loss: 0.000, accuracy: 0.891, lr: 0.00156\n",
      "epoch: 2300, loss: 0.000, accuracy: 0.896, lr: 0.00152\n",
      "epoch: 2400, loss: 0.000, accuracy: 0.899, lr: 0.00147\n",
      "epoch: 2500, loss: 0.000, accuracy: 0.898, lr: 0.00143\n",
      "epoch: 2600, loss: 0.000, accuracy: 0.906, lr: 0.00139\n",
      "epoch: 2700, loss: 0.000, accuracy: 0.908, lr: 0.00135\n",
      "epoch: 2800, loss: 0.000, accuracy: 0.919, lr: 0.00132\n",
      "epoch: 2900, loss: 0.000, accuracy: 0.920, lr: 0.00128\n",
      "epoch: 3000, loss: 0.000, accuracy: 0.156, lr: 0.00125\n",
      "epoch: 3100, loss: 0.000, accuracy: 0.929, lr: 0.00122\n",
      "epoch: 3200, loss: 0.000, accuracy: 0.927, lr: 0.00119\n",
      "epoch: 3300, loss: 0.000, accuracy: 0.190, lr: 0.00116\n",
      "epoch: 3400, loss: 0.000, accuracy: 0.927, lr: 0.00114\n",
      "epoch: 3500, loss: 0.000, accuracy: 0.928, lr: 0.00111\n",
      "epoch: 3600, loss: 0.000, accuracy: 0.915, lr: 0.00109\n",
      "epoch: 3700, loss: 0.000, accuracy: 0.935, lr: 0.00106\n",
      "epoch: 3800, loss: 0.000, accuracy: 0.933, lr: 0.00104\n",
      "epoch: 3900, loss: 0.000, accuracy: 0.242, lr: 0.00102\n",
      "epoch: 4000, loss: 0.000, accuracy: 0.935, lr: 0.00100\n",
      "epoch: 4100, loss: 0.000, accuracy: 0.934, lr: 0.00098\n",
      "epoch: 4200, loss: 0.000, accuracy: 0.748, lr: 0.00096\n",
      "epoch: 4300, loss: 0.000, accuracy: 0.935, lr: 0.00094\n",
      "epoch: 4400, loss: 0.000, accuracy: 0.936, lr: 0.00093\n",
      "epoch: 4500, loss: 0.000, accuracy: 0.930, lr: 0.00091\n",
      "epoch: 4600, loss: 0.000, accuracy: 0.937, lr: 0.00089\n",
      "epoch: 4700, loss: 0.000, accuracy: 0.463, lr: 0.00088\n",
      "epoch: 4800, loss: 0.000, accuracy: 0.941, lr: 0.00086\n",
      "epoch: 4900, loss: 0.000, accuracy: 0.943, lr: 0.00085\n",
      "epoch: 5000, loss: 0.000, accuracy: 0.877, lr: 0.00083\n",
      "epoch: 5100, loss: 0.000, accuracy: 0.944, lr: 0.00082\n",
      "epoch: 5200, loss: 0.000, accuracy: 0.944, lr: 0.00081\n",
      "epoch: 5300, loss: 0.000, accuracy: 0.463, lr: 0.00079\n",
      "epoch: 5400, loss: 0.000, accuracy: 0.943, lr: 0.00078\n",
      "epoch: 5500, loss: 0.000, accuracy: 0.945, lr: 0.00077\n",
      "epoch: 5600, loss: 0.000, accuracy: 0.155, lr: 0.00076\n",
      "epoch: 5700, loss: 0.000, accuracy: 0.948, lr: 0.00075\n",
      "epoch: 5800, loss: 0.000, accuracy: 0.949, lr: 0.00074\n",
      "epoch: 5900, loss: 0.000, accuracy: 0.950, lr: 0.00072\n",
      "epoch: 6000, loss: 0.000, accuracy: 0.950, lr: 0.00071\n",
      "epoch: 6100, loss: 0.000, accuracy: 0.950, lr: 0.00070\n",
      "epoch: 6200, loss: 0.000, accuracy: 0.901, lr: 0.00069\n",
      "epoch: 6300, loss: 0.000, accuracy: 0.952, lr: 0.00069\n",
      "epoch: 6400, loss: 0.000, accuracy: 0.951, lr: 0.00068\n",
      "epoch: 6500, loss: 0.000, accuracy: 0.953, lr: 0.00067\n",
      "epoch: 6600, loss: 0.000, accuracy: 0.957, lr: 0.00066\n",
      "epoch: 6700, loss: 0.000, accuracy: 0.953, lr: 0.00065\n",
      "epoch: 6800, loss: 0.000, accuracy: 0.955, lr: 0.00064\n",
      "epoch: 6900, loss: 0.000, accuracy: 0.958, lr: 0.00063\n",
      "epoch: 7000, loss: 0.000, accuracy: 0.957, lr: 0.00063\n",
      "epoch: 7100, loss: 0.000, accuracy: 0.958, lr: 0.00062\n",
      "epoch: 7200, loss: 0.000, accuracy: 0.744, lr: 0.00061\n",
      "epoch: 7300, loss: 0.000, accuracy: 0.964, lr: 0.00060\n",
      "epoch: 7400, loss: 0.000, accuracy: 0.957, lr: 0.00060\n",
      "epoch: 7500, loss: 0.000, accuracy: 0.954, lr: 0.00059\n",
      "epoch: 7600, loss: 0.000, accuracy: 0.964, lr: 0.00058\n",
      "epoch: 7700, loss: 0.000, accuracy: 0.966, lr: 0.00057\n",
      "epoch: 7800, loss: 0.000, accuracy: 0.960, lr: 0.00057\n",
      "epoch: 7900, loss: 0.000, accuracy: 0.966, lr: 0.00056\n",
      "epoch: 8000, loss: 0.000, accuracy: 0.961, lr: 0.00056\n",
      "epoch: 8100, loss: 0.000, accuracy: 0.867, lr: 0.00055\n",
      "epoch: 8200, loss: 0.000, accuracy: 0.964, lr: 0.00054\n",
      "epoch: 8300, loss: 0.000, accuracy: 0.955, lr: 0.00054\n",
      "epoch: 8400, loss: 0.000, accuracy: 0.968, lr: 0.00053\n",
      "epoch: 8500, loss: 0.000, accuracy: 0.966, lr: 0.00053\n",
      "epoch: 8600, loss: 0.000, accuracy: 0.966, lr: 0.00052\n",
      "epoch: 8700, loss: 0.000, accuracy: 0.967, lr: 0.00052\n",
      "epoch: 8800, loss: 0.000, accuracy: 0.972, lr: 0.00051\n",
      "epoch: 8900, loss: 0.000, accuracy: 0.969, lr: 0.00051\n",
      "epoch: 9000, loss: 0.000, accuracy: 0.967, lr: 0.00050\n",
      "epoch: 9100, loss: 0.000, accuracy: 0.968, lr: 0.00050\n",
      "epoch: 9200, loss: 0.000, accuracy: 0.959, lr: 0.00049\n",
      "epoch: 9300, loss: 0.000, accuracy: 0.971, lr: 0.00049\n",
      "epoch: 9400, loss: 0.000, accuracy: 0.968, lr: 0.00048\n",
      "epoch: 9500, loss: 0.000, accuracy: 0.964, lr: 0.00048\n",
      "epoch: 9600, loss: 0.000, accuracy: 0.969, lr: 0.00047\n",
      "epoch: 9700, loss: 0.000, accuracy: 0.969, lr: 0.00047\n",
      "epoch: 9800, loss: 0.000, accuracy: 0.972, lr: 0.00046\n",
      "epoch: 9900, loss: 0.000, accuracy: 0.964, lr: 0.00046\n",
      "epoch: 10000, loss: 0.000, accuracy: 0.970, lr: 0.00045\n"
     ]
    }
   ],
   "execution_count": 3
  },
  {
   "metadata": {
    "ExecuteTime": {
     "end_time": "2024-08-12T21:46:01.921401Z",
     "start_time": "2024-08-12T21:46:01.567283Z"
    }
   },
   "cell_type": "code",
   "source": [
    "x_test, y_test = nnfs.datasets.sine_data()\n",
    "\n",
    "outputs = model.forward(x_test)\n",
    "\n",
    "plt.plot(x_test, outputs)\n",
    "plt.show()"
   ],
   "id": "8289c09d9022ecf8",
   "outputs": [
    {
     "data": {
      "text/plain": [
       "<Figure size 640x480 with 1 Axes>"
      ],
      "image/png": "[encoded data removed]"
     },
     "metadata": {},
     "output_type": "display_data"
    }
   ],
   "execution_count": 4
  },
  {
   "metadata": {},
   "cell_type": "code",
   "execution_count": null,
   "source": "",
   "id": "ca7c9113bdbbb17d",
   "outputs": []
  }
 ],
 "metadata": {
  "kernelspec": {
   "display_name": "Python 3",
   "language": "python",
   "name": "python3"
  },
  "language_info": {
   "codemirror_mode": {
    "name": "ipython",
    "version": 2
   },
   "file_extension": ".py",
   "mimetype": "text/x-python",
   "name": "python",
   "nbconvert_exporter": "python",
   "pygments_lexer": "ipython2",
   "version": "2.7.6"
  }
 },
 "nbformat": 4,
 "nbformat_minor": 5
}
