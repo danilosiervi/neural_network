{
 "cells": [
  {
   "cell_type": "code",
   "id": "initial_id",
   "metadata": {
    "collapsed": true,
    "ExecuteTime": {
     "end_time": "2025-05-09T02:22:06.528320Z",
     "start_time": "2025-05-09T02:22:04.492855Z"
    }
   },
   "source": [
    "import numpy as np\n",
    "import tkinter as tk\n",
    "import matplotlib.pyplot as plt\n",
    "\n",
    "from PIL import Image, ImageDraw, ImageOps\n",
    "from tensorflow.keras.datasets import mnist\n",
    "from tensorflow.keras.utils import to_categorical"
   ],
   "outputs": [],
   "execution_count": 10
  },
  {
   "metadata": {
    "ExecuteTime": {
     "end_time": "2025-05-09T02:08:51.191082Z",
     "start_time": "2025-05-09T02:08:50.656456Z"
    }
   },
   "cell_type": "code",
   "source": [
    "from model.neural_network import NeuralNetwork\n",
    "from model.layers.dense import DenseLayer\n",
    "from model.layers.dropout import DropoutLayer\n",
    "from model.optimizers.adam import Adam"
   ],
   "id": "85f66b39d59193fa",
   "outputs": [],
   "execution_count": 2
  },
  {
   "metadata": {},
   "cell_type": "markdown",
   "source": "# MNIST Dataset",
   "id": "8a0257ddfcfb9650"
  },
  {
   "metadata": {},
   "cell_type": "code",
   "outputs": [],
   "execution_count": null,
   "source": [
    "(x_train, y_train), (x_test, y_test) = mnist.load_data()\n",
    "\n",
    "plt.figure(figsize=(10, 2))\n",
    "for i in range(10):\n",
    "    plt.subplot(1, 10, i + 1)\n",
    "    plt.imshow(x_train[i], cmap=\"gray\")\n",
    "    plt.title(str(y_train[i]))\n",
    "    plt.axis(\"off\")\n",
    "plt.show()"
   ],
   "id": "1b64859c2491e6cf"
  },
  {
   "metadata": {},
   "cell_type": "markdown",
   "source": "# Traning",
   "id": "e55525ef07ce3070"
  },
  {
   "metadata": {
    "ExecuteTime": {
     "end_time": "2025-05-09T02:18:53.398012Z",
     "start_time": "2025-05-09T02:12:19.123433Z"
    }
   },
   "cell_type": "code",
   "source": [
    "x_train = x_train.reshape(-1, 28*28).astype(np.float32) / 255.0\n",
    "x_test = x_test.reshape(-1, 28*28).astype(np.float32) / 255.0\n",
    "\n",
    "y_train = to_categorical(y_train, 10)\n",
    "y_test = to_categorical(y_test, 10)\n",
    "\n",
    "model = NeuralNetwork([\n",
    "    DenseLayer(784, 128, activation='Relu', weight_regularizer_l2=5e-4, bias_regularizer_l2=5e-4),\n",
    "    DropoutLayer(rate=0.1),\n",
    "    DenseLayer(128, 64, activation='Relu'),\n",
    "    DropoutLayer(rate=0.1),\n",
    "    DenseLayer(64, 10, activation='Softmax')\n",
    "])\n",
    "\n",
    "model.set(\n",
    "    loss='CategoricalCrossentropy',\n",
    "    optimizer=Adam(learning_rate=0.001, decay=1e-5)\n",
    ")\n",
    "\n",
    "model.train(x_train, y_train, epochs=100, print_every=1)\n",
    "\n",
    "predictions = model.forward(x_test)\n",
    "accuracy = np.mean(np.argmax(predictions, axis=1) == np.argmax(y_test, axis=1))\n",
    "print(f\"Test Accuracy: {accuracy:.4f}\")"
   ],
   "id": "d3504b881db72623",
   "outputs": [
    {
     "name": "stdout",
     "output_type": "stream",
     "text": [
      "epoch: 0, loss: 2.308, lr: 0.0010000000\n",
      "epoch: 1, loss: 2.306, lr: 0.0010000000\n",
      "epoch: 2, loss: 2.305, lr: 0.0009999900\n",
      "epoch: 3, loss: 2.303, lr: 0.0009999800\n",
      "epoch: 4, loss: 2.300, lr: 0.0009999700\n",
      "epoch: 5, loss: 2.297, lr: 0.0009999600\n",
      "epoch: 6, loss: 2.292, lr: 0.0009999500\n",
      "epoch: 7, loss: 2.286, lr: 0.0009999400\n",
      "epoch: 8, loss: 2.279, lr: 0.0009999300\n",
      "epoch: 9, loss: 2.269, lr: 0.0009999200\n",
      "epoch: 10, loss: 2.258, lr: 0.0009999100\n",
      "epoch: 11, loss: 2.244, lr: 0.0009999000\n",
      "epoch: 12, loss: 2.227, lr: 0.0009998900\n",
      "epoch: 13, loss: 2.207, lr: 0.0009998800\n",
      "epoch: 14, loss: 2.183, lr: 0.0009998700\n",
      "epoch: 15, loss: 2.155, lr: 0.0009998600\n",
      "epoch: 16, loss: 2.124, lr: 0.0009998500\n",
      "epoch: 17, loss: 2.088, lr: 0.0009998400\n",
      "epoch: 18, loss: 2.048, lr: 0.0009998300\n",
      "epoch: 19, loss: 2.003, lr: 0.0009998200\n",
      "epoch: 20, loss: 1.955, lr: 0.0009998100\n",
      "epoch: 21, loss: 1.903, lr: 0.0009998000\n",
      "epoch: 22, loss: 1.848, lr: 0.0009997900\n",
      "epoch: 23, loss: 1.791, lr: 0.0009997800\n",
      "epoch: 24, loss: 1.734, lr: 0.0009997701\n",
      "epoch: 25, loss: 1.676, lr: 0.0009997601\n",
      "epoch: 26, loss: 1.617, lr: 0.0009997501\n",
      "epoch: 27, loss: 1.561, lr: 0.0009997401\n",
      "epoch: 28, loss: 1.506, lr: 0.0009997301\n",
      "epoch: 29, loss: 1.452, lr: 0.0009997201\n",
      "epoch: 30, loss: 1.400, lr: 0.0009997101\n",
      "epoch: 31, loss: 1.351, lr: 0.0009997001\n",
      "epoch: 32, loss: 1.304, lr: 0.0009996901\n",
      "epoch: 33, loss: 1.259, lr: 0.0009996801\n",
      "epoch: 34, loss: 1.217, lr: 0.0009996701\n",
      "epoch: 35, loss: 1.177, lr: 0.0009996601\n",
      "epoch: 36, loss: 1.138, lr: 0.0009996501\n",
      "epoch: 37, loss: 1.099, lr: 0.0009996401\n",
      "epoch: 38, loss: 1.064, lr: 0.0009996301\n",
      "epoch: 39, loss: 1.031, lr: 0.0009996201\n",
      "epoch: 40, loss: 1.001, lr: 0.0009996102\n",
      "epoch: 41, loss: 0.971, lr: 0.0009996002\n",
      "epoch: 42, loss: 0.945, lr: 0.0009995902\n",
      "epoch: 43, loss: 0.919, lr: 0.0009995802\n",
      "epoch: 44, loss: 0.897, lr: 0.0009995702\n",
      "epoch: 45, loss: 0.878, lr: 0.0009995602\n",
      "epoch: 46, loss: 0.860, lr: 0.0009995502\n",
      "epoch: 47, loss: 0.842, lr: 0.0009995402\n",
      "epoch: 48, loss: 0.824, lr: 0.0009995302\n",
      "epoch: 49, loss: 0.810, lr: 0.0009995202\n",
      "epoch: 50, loss: 0.797, lr: 0.0009995102\n",
      "epoch: 51, loss: 0.784, lr: 0.0009995002\n",
      "epoch: 52, loss: 0.769, lr: 0.0009994903\n",
      "epoch: 53, loss: 0.758, lr: 0.0009994803\n",
      "epoch: 54, loss: 0.749, lr: 0.0009994703\n",
      "epoch: 55, loss: 0.734, lr: 0.0009994603\n",
      "epoch: 56, loss: 0.726, lr: 0.0009994503\n",
      "epoch: 57, loss: 0.715, lr: 0.0009994403\n",
      "epoch: 58, loss: 0.707, lr: 0.0009994303\n",
      "epoch: 59, loss: 0.696, lr: 0.0009994203\n",
      "epoch: 60, loss: 0.686, lr: 0.0009994103\n",
      "epoch: 61, loss: 0.677, lr: 0.0009994004\n",
      "epoch: 62, loss: 0.664, lr: 0.0009993904\n",
      "epoch: 63, loss: 0.658, lr: 0.0009993804\n",
      "epoch: 64, loss: 0.647, lr: 0.0009993704\n",
      "epoch: 65, loss: 0.643, lr: 0.0009993604\n",
      "epoch: 66, loss: 0.632, lr: 0.0009993504\n",
      "epoch: 67, loss: 0.621, lr: 0.0009993404\n",
      "epoch: 68, loss: 0.614, lr: 0.0009993304\n",
      "epoch: 69, loss: 0.606, lr: 0.0009993205\n",
      "epoch: 70, loss: 0.597, lr: 0.0009993105\n",
      "epoch: 71, loss: 0.590, lr: 0.0009993005\n",
      "epoch: 72, loss: 0.583, lr: 0.0009992905\n",
      "epoch: 73, loss: 0.576, lr: 0.0009992805\n",
      "epoch: 74, loss: 0.567, lr: 0.0009992705\n",
      "epoch: 75, loss: 0.559, lr: 0.0009992605\n",
      "epoch: 76, loss: 0.554, lr: 0.0009992506\n",
      "epoch: 77, loss: 0.549, lr: 0.0009992406\n",
      "epoch: 78, loss: 0.540, lr: 0.0009992306\n",
      "epoch: 79, loss: 0.536, lr: 0.0009992206\n",
      "epoch: 80, loss: 0.530, lr: 0.0009992106\n",
      "epoch: 81, loss: 0.524, lr: 0.0009992006\n",
      "epoch: 82, loss: 0.520, lr: 0.0009991907\n",
      "epoch: 83, loss: 0.514, lr: 0.0009991807\n",
      "epoch: 84, loss: 0.507, lr: 0.0009991707\n",
      "epoch: 85, loss: 0.505, lr: 0.0009991607\n",
      "epoch: 86, loss: 0.500, lr: 0.0009991507\n",
      "epoch: 87, loss: 0.496, lr: 0.0009991407\n",
      "epoch: 88, loss: 0.493, lr: 0.0009991308\n",
      "epoch: 89, loss: 0.489, lr: 0.0009991208\n",
      "epoch: 90, loss: 0.485, lr: 0.0009991108\n",
      "epoch: 91, loss: 0.482, lr: 0.0009991008\n",
      "epoch: 92, loss: 0.477, lr: 0.0009990908\n",
      "epoch: 93, loss: 0.473, lr: 0.0009990808\n",
      "epoch: 94, loss: 0.472, lr: 0.0009990709\n",
      "epoch: 95, loss: 0.467, lr: 0.0009990609\n",
      "epoch: 96, loss: 0.464, lr: 0.0009990509\n",
      "epoch: 97, loss: 0.461, lr: 0.0009990409\n",
      "epoch: 98, loss: 0.456, lr: 0.0009990309\n",
      "epoch: 99, loss: 0.454, lr: 0.0009990210\n",
      "epoch: 100, loss: 0.450, lr: 0.0009990110\n",
      "Test Accuracy: 0.8897\n"
     ]
    }
   ],
   "execution_count": 5
  },
  {
   "metadata": {},
   "cell_type": "markdown",
   "source": "# Testing",
   "id": "955f5d3f5d5c3727"
  },
  {
   "metadata": {
    "ExecuteTime": {
     "end_time": "2025-05-09T02:27:33.966970Z",
     "start_time": "2025-05-09T02:27:33.947476Z"
    }
   },
   "cell_type": "code",
   "source": [
    "class DigitRecognizer:\n",
    "    def __init__(self, model):\n",
    "        self.model = model\n",
    "        self.window = tk.Tk()\n",
    "        self.window.title(\"Draw a Digit\")\n",
    "\n",
    "        self.canvas = tk.Canvas(self.window, width=280, height=280, bg=\"black\")\n",
    "        self.canvas.pack()\n",
    "\n",
    "        self.button_frame = tk.Frame(self.window)\n",
    "        self.button_frame.pack()\n",
    "\n",
    "        self.predict_button = tk.Button(self.button_frame, text=\"Predict\", command=self.predict_digit)\n",
    "        self.predict_button.pack(side=\"left\")\n",
    "\n",
    "        self.clear_button = tk.Button(self.button_frame, text=\"Clear\", command=self.clear_canvas)\n",
    "        self.clear_button.pack(side=\"right\")\n",
    "\n",
    "        self.canvas.bind(\"<B1-Motion>\", self.draw)\n",
    "\n",
    "        self.image = Image.new(\"L\", (280, 280), color=0)  # Black background\n",
    "        self.draw_image = ImageDraw.Draw(self.image)\n",
    "\n",
    "        self.window.mainloop()\n",
    "\n",
    "    def draw(self, event):\n",
    "        x, y = event.x, event.y\n",
    "        r = 8\n",
    "        self.canvas.create_oval(x - r, y - r, x + r, y + r, fill=\"white\", outline=\"white\")\n",
    "        self.draw_image.ellipse([x - r, y - r, x + r, y + r], fill=255)\n",
    "\n",
    "    def clear_canvas(self):\n",
    "        self.canvas.delete(\"all\")\n",
    "        self.draw_image.rectangle([0, 0, 280, 280], fill=0)  # Reset to black\n",
    "\n",
    "    def predict_digit(self):\n",
    "        resized = self.image.resize((28, 28))\n",
    "        data = np.asarray(resized).astype(np.float32) / 255.0\n",
    "        data = data.reshape(1, -1)\n",
    "\n",
    "        prediction = self.model.forward(data)\n",
    "        predicted_class = np.argmax(prediction)\n",
    "        print(f\"Predicted digit: {predicted_class}\")\n",
    "\n",
    "        self.window.title(f\"Predicted digit: {predicted_class}\")"
   ],
   "id": "3512a3e6260f9c0f",
   "outputs": [],
   "execution_count": 26
  },
  {
   "metadata": {
    "ExecuteTime": {
     "end_time": "2025-05-09T02:27:50.970074Z",
     "start_time": "2025-05-09T02:27:34.515682Z"
    }
   },
   "cell_type": "code",
   "source": "DigitRecognizer(model)",
   "id": "9189227eb850c78d",
   "outputs": [
    {
     "name": "stdout",
     "output_type": "stream",
     "text": [
      "Predicted digit: 7\n",
      "Predicted digit: 6\n",
      "Predicted digit: 0\n",
      "Predicted digit: 8\n",
      "Predicted digit: 4\n",
      "Predicted digit: 4\n"
     ]
    },
    {
     "ename": "KeyboardInterrupt",
     "evalue": "",
     "output_type": "error",
     "traceback": [
      "\u001B[1;31m---------------------------------------------------------------------------\u001B[0m",
      "\u001B[1;31mKeyboardInterrupt\u001B[0m                         Traceback (most recent call last)",
      "Cell \u001B[1;32mIn[27], line 1\u001B[0m\n\u001B[1;32m----> 1\u001B[0m \u001B[43mDigitRecognizer\u001B[49m\u001B[43m(\u001B[49m\u001B[43mmodel\u001B[49m\u001B[43m)\u001B[49m\n",
      "Cell \u001B[1;32mIn[26], line 24\u001B[0m, in \u001B[0;36mDigitRecognizer.__init__\u001B[1;34m(self, model)\u001B[0m\n\u001B[0;32m     21\u001B[0m \u001B[38;5;28mself\u001B[39m\u001B[38;5;241m.\u001B[39mimage \u001B[38;5;241m=\u001B[39m Image\u001B[38;5;241m.\u001B[39mnew(\u001B[38;5;124m\"\u001B[39m\u001B[38;5;124mL\u001B[39m\u001B[38;5;124m\"\u001B[39m, (\u001B[38;5;241m280\u001B[39m, \u001B[38;5;241m280\u001B[39m), color\u001B[38;5;241m=\u001B[39m\u001B[38;5;241m0\u001B[39m)  \u001B[38;5;66;03m# Black background\u001B[39;00m\n\u001B[0;32m     22\u001B[0m \u001B[38;5;28mself\u001B[39m\u001B[38;5;241m.\u001B[39mdraw_image \u001B[38;5;241m=\u001B[39m ImageDraw\u001B[38;5;241m.\u001B[39mDraw(\u001B[38;5;28mself\u001B[39m\u001B[38;5;241m.\u001B[39mimage)\n\u001B[1;32m---> 24\u001B[0m \u001B[38;5;28;43mself\u001B[39;49m\u001B[38;5;241;43m.\u001B[39;49m\u001B[43mwindow\u001B[49m\u001B[38;5;241;43m.\u001B[39;49m\u001B[43mmainloop\u001B[49m\u001B[43m(\u001B[49m\u001B[43m)\u001B[49m\n",
      "File \u001B[1;32m~\\AppData\\Local\\Programs\\Python\\Python311\\Lib\\tkinter\\__init__.py:1485\u001B[0m, in \u001B[0;36mMisc.mainloop\u001B[1;34m(self, n)\u001B[0m\n\u001B[0;32m   1483\u001B[0m \u001B[38;5;28;01mdef\u001B[39;00m \u001B[38;5;21mmainloop\u001B[39m(\u001B[38;5;28mself\u001B[39m, n\u001B[38;5;241m=\u001B[39m\u001B[38;5;241m0\u001B[39m):\n\u001B[0;32m   1484\u001B[0m \u001B[38;5;250m    \u001B[39m\u001B[38;5;124;03m\"\"\"Call the mainloop of Tk.\"\"\"\u001B[39;00m\n\u001B[1;32m-> 1485\u001B[0m     \u001B[38;5;28;43mself\u001B[39;49m\u001B[38;5;241;43m.\u001B[39;49m\u001B[43mtk\u001B[49m\u001B[38;5;241;43m.\u001B[39;49m\u001B[43mmainloop\u001B[49m\u001B[43m(\u001B[49m\u001B[43mn\u001B[49m\u001B[43m)\u001B[49m\n",
      "\u001B[1;31mKeyboardInterrupt\u001B[0m: "
     ]
    }
   ],
   "execution_count": 27
  },
  {
   "metadata": {},
   "cell_type": "code",
   "outputs": [],
   "execution_count": null,
   "source": "",
   "id": "432694407cef8a6"
  }
 ],
 "metadata": {
  "kernelspec": {
   "display_name": "Python 3",
   "language": "python",
   "name": "python3"
  },
  "language_info": {
   "codemirror_mode": {
    "name": "ipython",
    "version": 2
   },
   "file_extension": ".py",
   "mimetype": "text/x-python",
   "name": "python",
   "nbconvert_exporter": "python",
   "pygments_lexer": "ipython2",
   "version": "2.7.6"
  }
 },
 "nbformat": 4,
 "nbformat_minor": 5
}
